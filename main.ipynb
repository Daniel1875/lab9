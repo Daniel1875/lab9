{
 "cells": [
  {
   "cell_type": "code",
   "execution_count": 1,
   "metadata": {},
   "outputs": [
    {
     "data": {
      "text/html": [
       "<div>\n",
       "<style scoped>\n",
       "    .dataframe tbody tr th:only-of-type {\n",
       "        vertical-align: middle;\n",
       "    }\n",
       "\n",
       "    .dataframe tbody tr th {\n",
       "        vertical-align: top;\n",
       "    }\n",
       "\n",
       "    .dataframe thead th {\n",
       "        text-align: right;\n",
       "    }\n",
       "</style>\n",
       "<table border=\"1\" class=\"dataframe\">\n",
       "  <thead>\n",
       "    <tr style=\"text-align: right;\">\n",
       "      <th></th>\n",
       "      <th>CUSTOMER_ID</th>\n",
       "      <th>ZIP_CODE</th>\n",
       "      <th>TOTAL_VISITS</th>\n",
       "      <th>TOTAL_SPENT</th>\n",
       "      <th>AVRG_SPENT_PER_VISIT</th>\n",
       "      <th>HAS_CREDIT_CARD</th>\n",
       "      <th>PSWEATERS</th>\n",
       "      <th>PKNIT_TOPS</th>\n",
       "      <th>PKNIT_DRES</th>\n",
       "      <th>PBLOUSES</th>\n",
       "      <th>...</th>\n",
       "      <th>STORELOY</th>\n",
       "      <th>VALPHON</th>\n",
       "      <th>WEB</th>\n",
       "      <th>MAILED</th>\n",
       "      <th>RESPONDED</th>\n",
       "      <th>RESPONSERATE</th>\n",
       "      <th>LTFREDAY</th>\n",
       "      <th>CLUSTYPE</th>\n",
       "      <th>PERCRET</th>\n",
       "      <th>RESP</th>\n",
       "    </tr>\n",
       "  </thead>\n",
       "  <tbody>\n",
       "    <tr>\n",
       "      <th>0</th>\n",
       "      <td>9955600066402</td>\n",
       "      <td>1001</td>\n",
       "      <td>2</td>\n",
       "      <td>368.46</td>\n",
       "      <td>184.23</td>\n",
       "      <td>0</td>\n",
       "      <td>0.18</td>\n",
       "      <td>0.00</td>\n",
       "      <td>0.00</td>\n",
       "      <td>0.30</td>\n",
       "      <td>...</td>\n",
       "      <td>7</td>\n",
       "      <td>N</td>\n",
       "      <td>0</td>\n",
       "      <td>5</td>\n",
       "      <td>0</td>\n",
       "      <td>0.00</td>\n",
       "      <td>111.00</td>\n",
       "      <td>10</td>\n",
       "      <td>0.00</td>\n",
       "      <td>0</td>\n",
       "    </tr>\n",
       "    <tr>\n",
       "      <th>1</th>\n",
       "      <td>9955600073501</td>\n",
       "      <td>1028</td>\n",
       "      <td>4</td>\n",
       "      <td>258.00</td>\n",
       "      <td>64.50</td>\n",
       "      <td>1</td>\n",
       "      <td>0.26</td>\n",
       "      <td>0.16</td>\n",
       "      <td>0.00</td>\n",
       "      <td>0.00</td>\n",
       "      <td>...</td>\n",
       "      <td>7</td>\n",
       "      <td>Y</td>\n",
       "      <td>0</td>\n",
       "      <td>4</td>\n",
       "      <td>2</td>\n",
       "      <td>50.00</td>\n",
       "      <td>43.50</td>\n",
       "      <td>10</td>\n",
       "      <td>0.03</td>\n",
       "      <td>1</td>\n",
       "    </tr>\n",
       "    <tr>\n",
       "      <th>2</th>\n",
       "      <td>9955600076313</td>\n",
       "      <td>1056</td>\n",
       "      <td>2</td>\n",
       "      <td>77.00</td>\n",
       "      <td>38.50</td>\n",
       "      <td>0</td>\n",
       "      <td>1.00</td>\n",
       "      <td>0.00</td>\n",
       "      <td>0.00</td>\n",
       "      <td>0.00</td>\n",
       "      <td>...</td>\n",
       "      <td>7</td>\n",
       "      <td>N</td>\n",
       "      <td>0</td>\n",
       "      <td>4</td>\n",
       "      <td>0</td>\n",
       "      <td>0.00</td>\n",
       "      <td>68.60</td>\n",
       "      <td>16</td>\n",
       "      <td>0.00</td>\n",
       "      <td>0</td>\n",
       "    </tr>\n",
       "    <tr>\n",
       "      <th>3</th>\n",
       "      <td>9955600078045</td>\n",
       "      <td>1118</td>\n",
       "      <td>8</td>\n",
       "      <td>846.06</td>\n",
       "      <td>105.75</td>\n",
       "      <td>1</td>\n",
       "      <td>0.38</td>\n",
       "      <td>0.00</td>\n",
       "      <td>0.05</td>\n",
       "      <td>0.06</td>\n",
       "      <td>...</td>\n",
       "      <td>7</td>\n",
       "      <td>Y</td>\n",
       "      <td>0</td>\n",
       "      <td>9</td>\n",
       "      <td>6</td>\n",
       "      <td>66.67</td>\n",
       "      <td>26.96</td>\n",
       "      <td>10</td>\n",
       "      <td>0.00</td>\n",
       "      <td>0</td>\n",
       "    </tr>\n",
       "    <tr>\n",
       "      <th>4</th>\n",
       "      <td>9955600078517</td>\n",
       "      <td>1107</td>\n",
       "      <td>1</td>\n",
       "      <td>87.44</td>\n",
       "      <td>87.44</td>\n",
       "      <td>0</td>\n",
       "      <td>0.20</td>\n",
       "      <td>0.20</td>\n",
       "      <td>0.00</td>\n",
       "      <td>0.00</td>\n",
       "      <td>...</td>\n",
       "      <td>7</td>\n",
       "      <td>Y</td>\n",
       "      <td>0</td>\n",
       "      <td>0</td>\n",
       "      <td>0</td>\n",
       "      <td>0.00</td>\n",
       "      <td>24.50</td>\n",
       "      <td>20</td>\n",
       "      <td>0.00</td>\n",
       "      <td>0</td>\n",
       "    </tr>\n",
       "    <tr>\n",
       "      <th>...</th>\n",
       "      <td>...</td>\n",
       "      <td>...</td>\n",
       "      <td>...</td>\n",
       "      <td>...</td>\n",
       "      <td>...</td>\n",
       "      <td>...</td>\n",
       "      <td>...</td>\n",
       "      <td>...</td>\n",
       "      <td>...</td>\n",
       "      <td>...</td>\n",
       "      <td>...</td>\n",
       "      <td>...</td>\n",
       "      <td>...</td>\n",
       "      <td>...</td>\n",
       "      <td>...</td>\n",
       "      <td>...</td>\n",
       "      <td>...</td>\n",
       "      <td>...</td>\n",
       "      <td>...</td>\n",
       "      <td>...</td>\n",
       "      <td>...</td>\n",
       "    </tr>\n",
       "    <tr>\n",
       "      <th>21735</th>\n",
       "      <td>9964400917586</td>\n",
       "      <td>63105</td>\n",
       "      <td>2</td>\n",
       "      <td>39.00</td>\n",
       "      <td>19.50</td>\n",
       "      <td>0</td>\n",
       "      <td>0.00</td>\n",
       "      <td>0.00</td>\n",
       "      <td>0.39</td>\n",
       "      <td>0.00</td>\n",
       "      <td>...</td>\n",
       "      <td>870</td>\n",
       "      <td>Y</td>\n",
       "      <td>0</td>\n",
       "      <td>1</td>\n",
       "      <td>0</td>\n",
       "      <td>0.00</td>\n",
       "      <td>107.66</td>\n",
       "      <td>1</td>\n",
       "      <td>1.51</td>\n",
       "      <td>0</td>\n",
       "    </tr>\n",
       "    <tr>\n",
       "      <th>21736</th>\n",
       "      <td>9964401018057</td>\n",
       "      <td>72207</td>\n",
       "      <td>6</td>\n",
       "      <td>280.59</td>\n",
       "      <td>46.76</td>\n",
       "      <td>0</td>\n",
       "      <td>0.02</td>\n",
       "      <td>0.00</td>\n",
       "      <td>0.00</td>\n",
       "      <td>0.06</td>\n",
       "      <td>...</td>\n",
       "      <td>4507</td>\n",
       "      <td>N</td>\n",
       "      <td>0</td>\n",
       "      <td>5</td>\n",
       "      <td>2</td>\n",
       "      <td>40.00</td>\n",
       "      <td>18.45</td>\n",
       "      <td>12</td>\n",
       "      <td>0.69</td>\n",
       "      <td>0</td>\n",
       "    </tr>\n",
       "    <tr>\n",
       "      <th>21737</th>\n",
       "      <td>9964401099104</td>\n",
       "      <td>77084</td>\n",
       "      <td>9</td>\n",
       "      <td>1274.96</td>\n",
       "      <td>141.66</td>\n",
       "      <td>0</td>\n",
       "      <td>0.29</td>\n",
       "      <td>0.04</td>\n",
       "      <td>0.01</td>\n",
       "      <td>0.14</td>\n",
       "      <td>...</td>\n",
       "      <td>1615</td>\n",
       "      <td>N</td>\n",
       "      <td>0</td>\n",
       "      <td>7</td>\n",
       "      <td>2</td>\n",
       "      <td>28.57</td>\n",
       "      <td>12.62</td>\n",
       "      <td>15</td>\n",
       "      <td>0.08</td>\n",
       "      <td>1</td>\n",
       "    </tr>\n",
       "    <tr>\n",
       "      <th>21738</th>\n",
       "      <td>9964401138852</td>\n",
       "      <td>78640</td>\n",
       "      <td>3</td>\n",
       "      <td>265.94</td>\n",
       "      <td>88.64</td>\n",
       "      <td>0</td>\n",
       "      <td>0.18</td>\n",
       "      <td>0.00</td>\n",
       "      <td>0.03</td>\n",
       "      <td>0.11</td>\n",
       "      <td>...</td>\n",
       "      <td>36</td>\n",
       "      <td>Y</td>\n",
       "      <td>0</td>\n",
       "      <td>7</td>\n",
       "      <td>0</td>\n",
       "      <td>0.00</td>\n",
       "      <td>32.12</td>\n",
       "      <td>38</td>\n",
       "      <td>0.37</td>\n",
       "      <td>0</td>\n",
       "    </tr>\n",
       "    <tr>\n",
       "      <th>21739</th>\n",
       "      <td>9964401278251</td>\n",
       "      <td>95605</td>\n",
       "      <td>5</td>\n",
       "      <td>555.42</td>\n",
       "      <td>111.08</td>\n",
       "      <td>1</td>\n",
       "      <td>0.21</td>\n",
       "      <td>0.09</td>\n",
       "      <td>0.00</td>\n",
       "      <td>0.21</td>\n",
       "      <td>...</td>\n",
       "      <td>89</td>\n",
       "      <td>Y</td>\n",
       "      <td>0</td>\n",
       "      <td>6</td>\n",
       "      <td>2</td>\n",
       "      <td>33.33</td>\n",
       "      <td>11.25</td>\n",
       "      <td>17</td>\n",
       "      <td>0.00</td>\n",
       "      <td>1</td>\n",
       "    </tr>\n",
       "  </tbody>\n",
       "</table>\n",
       "<p>21740 rows × 48 columns</p>\n",
       "</div>"
      ],
      "text/plain": [
       "         CUSTOMER_ID  ZIP_CODE  TOTAL_VISITS  TOTAL_SPENT  \\\n",
       "0      9955600066402      1001             2       368.46   \n",
       "1      9955600073501      1028             4       258.00   \n",
       "2      9955600076313      1056             2        77.00   \n",
       "3      9955600078045      1118             8       846.06   \n",
       "4      9955600078517      1107             1        87.44   \n",
       "...              ...       ...           ...          ...   \n",
       "21735  9964400917586     63105             2        39.00   \n",
       "21736  9964401018057     72207             6       280.59   \n",
       "21737  9964401099104     77084             9      1274.96   \n",
       "21738  9964401138852     78640             3       265.94   \n",
       "21739  9964401278251     95605             5       555.42   \n",
       "\n",
       "       AVRG_SPENT_PER_VISIT  HAS_CREDIT_CARD  PSWEATERS  PKNIT_TOPS  \\\n",
       "0                    184.23                0       0.18        0.00   \n",
       "1                     64.50                1       0.26        0.16   \n",
       "2                     38.50                0       1.00        0.00   \n",
       "3                    105.75                1       0.38        0.00   \n",
       "4                     87.44                0       0.20        0.20   \n",
       "...                     ...              ...        ...         ...   \n",
       "21735                 19.50                0       0.00        0.00   \n",
       "21736                 46.76                0       0.02        0.00   \n",
       "21737                141.66                0       0.29        0.04   \n",
       "21738                 88.64                0       0.18        0.00   \n",
       "21739                111.08                1       0.21        0.09   \n",
       "\n",
       "       PKNIT_DRES  PBLOUSES  ...  STORELOY  VALPHON  WEB  MAILED  RESPONDED  \\\n",
       "0            0.00      0.30  ...         7        N    0       5          0   \n",
       "1            0.00      0.00  ...         7        Y    0       4          2   \n",
       "2            0.00      0.00  ...         7        N    0       4          0   \n",
       "3            0.05      0.06  ...         7        Y    0       9          6   \n",
       "4            0.00      0.00  ...         7        Y    0       0          0   \n",
       "...           ...       ...  ...       ...      ...  ...     ...        ...   \n",
       "21735        0.39      0.00  ...       870        Y    0       1          0   \n",
       "21736        0.00      0.06  ...      4507        N    0       5          2   \n",
       "21737        0.01      0.14  ...      1615        N    0       7          2   \n",
       "21738        0.03      0.11  ...        36        Y    0       7          0   \n",
       "21739        0.00      0.21  ...        89        Y    0       6          2   \n",
       "\n",
       "       RESPONSERATE  LTFREDAY  CLUSTYPE  PERCRET  RESP  \n",
       "0              0.00    111.00        10     0.00     0  \n",
       "1             50.00     43.50        10     0.03     1  \n",
       "2              0.00     68.60        16     0.00     0  \n",
       "3             66.67     26.96        10     0.00     0  \n",
       "4              0.00     24.50        20     0.00     0  \n",
       "...             ...       ...       ...      ...   ...  \n",
       "21735          0.00    107.66         1     1.51     0  \n",
       "21736         40.00     18.45        12     0.69     0  \n",
       "21737         28.57     12.62        15     0.08     1  \n",
       "21738          0.00     32.12        38     0.37     0  \n",
       "21739         33.33     11.25        17     0.00     1  \n",
       "\n",
       "[21740 rows x 48 columns]"
      ]
     },
     "execution_count": 1,
     "metadata": {},
     "output_type": "execute_result"
    }
   ],
   "source": [
    "import pandas as pd\n",
    "import numpy as np\n",
    "\n",
    "# Reads the data and drops \"CUSTOMER_ID\" attribute because it has nothing to do with the outcome.\n",
    "data = pd.read_csv(\"Clothing_Store.csv\")\n",
    "data"
   ]
  },
  {
   "cell_type": "markdown",
   "metadata": {},
   "source": [
    "# Preprocessing\n",
    "\n",
    "The data has to be preprocessed so that the classifier may run on it properly. First, \"CUSTOMER_ID\" has nothing to do with the outcome and must be removed. Second, the attributes must be numeric, as sklearn classifiers do not take categorical statements. At last, when this is passed to the KNN algorithm, attributes with large range such as \"ZIP_CODE\" will overpower attributes with smaller range such as \"TOTAL_VISITS\"."
   ]
  },
  {
   "cell_type": "code",
   "execution_count": 2,
   "metadata": {},
   "outputs": [],
   "source": [
    "# Drops the \"CUSTOMER_ID\" because it has nothing to do with the outcome.\n",
    "data = data.drop(columns=\"CUSTOMER_ID\")\n",
    "\n",
    "# Makes \"VALPHON\" numeric.\n",
    "data = data.replace({'N':0, 'Y':1})\n",
    "\n",
    "# Because the KNN algorithm will be used, data must also be normalized.\n",
    "from sklearn.preprocessing import MinMaxScaler\n",
    "from pandas import DataFrame\n",
    "scaler = MinMaxScaler()\n",
    "scaler.fit(data)\n",
    "data = DataFrame(scaler.transform(data), columns=data.columns)\n",
    "\n",
    "data\n",
    "\n",
    "# Splits into input and target\n",
    "X = data.drop(columns=['RESP'])\n",
    "Y = data['RESP'].values"
   ]
  },
  {
   "cell_type": "markdown",
   "metadata": {},
   "source": [
    "# Comparison of Classifiers\n",
    "\n",
    "Here we will compare different classifiers. I use 20-fold cross-validation for every classifier.\n",
    "\n",
    "In order to determine whether two classifiers are significantly different, I will use the T-test with 18 degrees of freedom. I set confidence to 95%."
   ]
  },
  {
   "cell_type": "code",
   "execution_count": 3,
   "metadata": {},
   "outputs": [],
   "source": [
    "from sklearn.model_selection import cross_val_score"
   ]
  },
  {
   "cell_type": "markdown",
   "metadata": {},
   "source": [
    "### Logistic Regression"
   ]
  },
  {
   "cell_type": "code",
   "execution_count": 4,
   "metadata": {},
   "outputs": [
    {
     "name": "stdout",
     "output_type": "stream",
     "text": [
      "mean:  0.8518859245630175\n"
     ]
    }
   ],
   "source": [
    "from sklearn.linear_model import LogisticRegression\n",
    "clf = LogisticRegression(solver=\"saga\")\n",
    "\n",
    "score1 = cross_val_score(clf, X, Y, cv=20)\n",
    "mean = np.mean(score1)\n",
    "\n",
    "print(\"mean: \", mean)"
   ]
  },
  {
   "cell_type": "markdown",
   "metadata": {},
   "source": [
    "### KNN"
   ]
  },
  {
   "cell_type": "code",
   "execution_count": 5,
   "metadata": {},
   "outputs": [
    {
     "name": "stdout",
     "output_type": "stream",
     "text": [
      "mean:  0.8433302667893285\n",
      "n_neighbors:  49\n"
     ]
    }
   ],
   "source": [
    "from sklearn.neighbors import KNeighborsClassifier\n",
    "\n",
    "best_mean = 0\n",
    "best_k = 0\n",
    "score2 = None\n",
    "\n",
    "for k in range(31, 51, 2):\n",
    "    clf = KNeighborsClassifier(n_neighbors = k, weights=\"distance\")\n",
    "    score = cross_val_score(clf, X, Y, cv=20)\n",
    "    mean = np.mean(score)\n",
    "    \n",
    "    if mean > best_mean:\n",
    "        best_mean = mean\n",
    "        best_k = k\n",
    "        score2 = score\n",
    "\n",
    "print(\"mean: \", best_mean)\n",
    "print(\"n_neighbors: \", best_k)"
   ]
  },
  {
   "cell_type": "markdown",
   "metadata": {},
   "source": [
    "### Neural Nets"
   ]
  },
  {
   "cell_type": "code",
   "execution_count": 6,
   "metadata": {},
   "outputs": [
    {
     "name": "stderr",
     "output_type": "stream",
     "text": [
      "C:\\Users\\cuiji\\anaconda3\\envs\\machinelearning\\lib\\site-packages\\sklearn\\neural_network\\_multilayer_perceptron.py:585: ConvergenceWarning: Stochastic Optimizer: Maximum iterations (200) reached and the optimization hasn't converged yet.\n",
      "  % self.max_iter, ConvergenceWarning)\n",
      "C:\\Users\\cuiji\\anaconda3\\envs\\machinelearning\\lib\\site-packages\\sklearn\\neural_network\\_multilayer_perceptron.py:585: ConvergenceWarning: Stochastic Optimizer: Maximum iterations (200) reached and the optimization hasn't converged yet.\n",
      "  % self.max_iter, ConvergenceWarning)\n",
      "C:\\Users\\cuiji\\anaconda3\\envs\\machinelearning\\lib\\site-packages\\sklearn\\neural_network\\_multilayer_perceptron.py:585: ConvergenceWarning: Stochastic Optimizer: Maximum iterations (200) reached and the optimization hasn't converged yet.\n",
      "  % self.max_iter, ConvergenceWarning)\n",
      "C:\\Users\\cuiji\\anaconda3\\envs\\machinelearning\\lib\\site-packages\\sklearn\\neural_network\\_multilayer_perceptron.py:585: ConvergenceWarning: Stochastic Optimizer: Maximum iterations (200) reached and the optimization hasn't converged yet.\n",
      "  % self.max_iter, ConvergenceWarning)\n",
      "C:\\Users\\cuiji\\anaconda3\\envs\\machinelearning\\lib\\site-packages\\sklearn\\neural_network\\_multilayer_perceptron.py:585: ConvergenceWarning: Stochastic Optimizer: Maximum iterations (200) reached and the optimization hasn't converged yet.\n",
      "  % self.max_iter, ConvergenceWarning)\n",
      "C:\\Users\\cuiji\\anaconda3\\envs\\machinelearning\\lib\\site-packages\\sklearn\\neural_network\\_multilayer_perceptron.py:585: ConvergenceWarning: Stochastic Optimizer: Maximum iterations (200) reached and the optimization hasn't converged yet.\n",
      "  % self.max_iter, ConvergenceWarning)\n",
      "C:\\Users\\cuiji\\anaconda3\\envs\\machinelearning\\lib\\site-packages\\sklearn\\neural_network\\_multilayer_perceptron.py:585: ConvergenceWarning: Stochastic Optimizer: Maximum iterations (200) reached and the optimization hasn't converged yet.\n",
      "  % self.max_iter, ConvergenceWarning)\n",
      "C:\\Users\\cuiji\\anaconda3\\envs\\machinelearning\\lib\\site-packages\\sklearn\\neural_network\\_multilayer_perceptron.py:585: ConvergenceWarning: Stochastic Optimizer: Maximum iterations (200) reached and the optimization hasn't converged yet.\n",
      "  % self.max_iter, ConvergenceWarning)\n",
      "C:\\Users\\cuiji\\anaconda3\\envs\\machinelearning\\lib\\site-packages\\sklearn\\neural_network\\_multilayer_perceptron.py:585: ConvergenceWarning: Stochastic Optimizer: Maximum iterations (200) reached and the optimization hasn't converged yet.\n",
      "  % self.max_iter, ConvergenceWarning)\n",
      "C:\\Users\\cuiji\\anaconda3\\envs\\machinelearning\\lib\\site-packages\\sklearn\\neural_network\\_multilayer_perceptron.py:585: ConvergenceWarning: Stochastic Optimizer: Maximum iterations (200) reached and the optimization hasn't converged yet.\n",
      "  % self.max_iter, ConvergenceWarning)\n",
      "C:\\Users\\cuiji\\anaconda3\\envs\\machinelearning\\lib\\site-packages\\sklearn\\neural_network\\_multilayer_perceptron.py:585: ConvergenceWarning: Stochastic Optimizer: Maximum iterations (200) reached and the optimization hasn't converged yet.\n",
      "  % self.max_iter, ConvergenceWarning)\n",
      "C:\\Users\\cuiji\\anaconda3\\envs\\machinelearning\\lib\\site-packages\\sklearn\\neural_network\\_multilayer_perceptron.py:585: ConvergenceWarning: Stochastic Optimizer: Maximum iterations (200) reached and the optimization hasn't converged yet.\n",
      "  % self.max_iter, ConvergenceWarning)\n",
      "C:\\Users\\cuiji\\anaconda3\\envs\\machinelearning\\lib\\site-packages\\sklearn\\neural_network\\_multilayer_perceptron.py:585: ConvergenceWarning: Stochastic Optimizer: Maximum iterations (200) reached and the optimization hasn't converged yet.\n",
      "  % self.max_iter, ConvergenceWarning)\n",
      "C:\\Users\\cuiji\\anaconda3\\envs\\machinelearning\\lib\\site-packages\\sklearn\\neural_network\\_multilayer_perceptron.py:585: ConvergenceWarning: Stochastic Optimizer: Maximum iterations (200) reached and the optimization hasn't converged yet.\n",
      "  % self.max_iter, ConvergenceWarning)\n",
      "C:\\Users\\cuiji\\anaconda3\\envs\\machinelearning\\lib\\site-packages\\sklearn\\neural_network\\_multilayer_perceptron.py:585: ConvergenceWarning: Stochastic Optimizer: Maximum iterations (200) reached and the optimization hasn't converged yet.\n",
      "  % self.max_iter, ConvergenceWarning)\n",
      "C:\\Users\\cuiji\\anaconda3\\envs\\machinelearning\\lib\\site-packages\\sklearn\\neural_network\\_multilayer_perceptron.py:585: ConvergenceWarning: Stochastic Optimizer: Maximum iterations (200) reached and the optimization hasn't converged yet.\n",
      "  % self.max_iter, ConvergenceWarning)\n",
      "C:\\Users\\cuiji\\anaconda3\\envs\\machinelearning\\lib\\site-packages\\sklearn\\neural_network\\_multilayer_perceptron.py:585: ConvergenceWarning: Stochastic Optimizer: Maximum iterations (200) reached and the optimization hasn't converged yet.\n",
      "  % self.max_iter, ConvergenceWarning)\n",
      "C:\\Users\\cuiji\\anaconda3\\envs\\machinelearning\\lib\\site-packages\\sklearn\\neural_network\\_multilayer_perceptron.py:585: ConvergenceWarning: Stochastic Optimizer: Maximum iterations (200) reached and the optimization hasn't converged yet.\n",
      "  % self.max_iter, ConvergenceWarning)\n",
      "C:\\Users\\cuiji\\anaconda3\\envs\\machinelearning\\lib\\site-packages\\sklearn\\neural_network\\_multilayer_perceptron.py:585: ConvergenceWarning: Stochastic Optimizer: Maximum iterations (200) reached and the optimization hasn't converged yet.\n",
      "  % self.max_iter, ConvergenceWarning)\n"
     ]
    },
    {
     "name": "stdout",
     "output_type": "stream",
     "text": [
      "mean:  0.8475160993560259\n"
     ]
    },
    {
     "name": "stderr",
     "output_type": "stream",
     "text": [
      "C:\\Users\\cuiji\\anaconda3\\envs\\machinelearning\\lib\\site-packages\\sklearn\\neural_network\\_multilayer_perceptron.py:585: ConvergenceWarning: Stochastic Optimizer: Maximum iterations (200) reached and the optimization hasn't converged yet.\n",
      "  % self.max_iter, ConvergenceWarning)\n"
     ]
    }
   ],
   "source": [
    "from sklearn.neural_network import MLPClassifier\n",
    "clf = MLPClassifier()\n",
    "\n",
    "score3 = cross_val_score(clf, X, Y, cv=20)\n",
    "mean = np.mean(score3)\n",
    "\n",
    "print(\"mean: \", mean)"
   ]
  },
  {
   "cell_type": "markdown",
   "metadata": {},
   "source": [
    "### Decision Tree"
   ]
  },
  {
   "cell_type": "code",
   "execution_count": 7,
   "metadata": {},
   "outputs": [
    {
     "name": "stdout",
     "output_type": "stream",
     "text": [
      "mean:  0.7876724931002759\n"
     ]
    }
   ],
   "source": [
    "from sklearn.tree import DecisionTreeClassifier\n",
    "clf = DecisionTreeClassifier()\n",
    "\n",
    "score4 = cross_val_score(clf, X, Y, cv=20)\n",
    "mean = np.mean(score4)\n",
    "\n",
    "print(\"mean: \", mean)"
   ]
  },
  {
   "cell_type": "markdown",
   "metadata": {},
   "source": [
    "### Comparison\n",
    "\n",
    "I write a function to perform the t-test on two classifiers' results."
   ]
  },
  {
   "cell_type": "code",
   "execution_count": 8,
   "metadata": {},
   "outputs": [
    {
     "name": "stdout",
     "output_type": "stream",
     "text": [
      "False\n",
      "False\n",
      "False\n",
      "False\n",
      "False\n",
      "False\n"
     ]
    }
   ],
   "source": [
    "# Does the two-tailed t-test with 95% confidence. Returns False if classifiers are significantly different.\n",
    "def cmp(sc1, sc2):\n",
    "    diflist = sc1 - sc2\n",
    "    difmean = np.mean(diflist)\n",
    "    difstddev = np.std(diflist)\n",
    "    difvar = difstddev / (20**0.5)\n",
    "\n",
    "    # 2.101 is from the t table.\n",
    "    lower_bound = (-2.101) * difvar\n",
    "    upper_bound = (2.101) * difvar\n",
    "    \n",
    "    if difmean < lower_bound or difmean > upper_bound:\n",
    "        return False\n",
    "    else:\n",
    "        return True\n",
    "\n",
    "print(cmp(score1, score2))\n",
    "print(cmp(score1, score3))\n",
    "print(cmp(score1, score4))\n",
    "print(cmp(score2, score3))\n",
    "print(cmp(score2, score4))\n",
    "print(cmp(score3, score4))"
   ]
  },
  {
   "cell_type": "markdown",
   "metadata": {},
   "source": [
    "### Comparison Results\n",
    "\n",
    "Logistic regression and neural net yielded similar results. They both yielded better results than KNN, which yielded better results than decision tree. "
   ]
  },
  {
   "cell_type": "markdown",
   "metadata": {},
   "source": [
    "# Lift Chart\n",
    "\n",
    "Lift Chart. This provides a visual presentation of how good the classifier is."
   ]
  },
  {
   "cell_type": "code",
   "execution_count": 20,
   "metadata": {},
   "outputs": [
    {
     "name": "stdout",
     "output_type": "stream",
     "text": [
      "0.8502759889604415\n",
      "      predicted  actual\n",
      "0           0.0     0.0\n",
      "1           0.0     0.0\n",
      "2           0.0     0.0\n",
      "3           0.0     1.0\n",
      "4           0.0     0.0\n",
      "...         ...     ...\n",
      "4343        0.0     0.0\n",
      "4344        0.0     0.0\n",
      "4345        0.0     0.0\n",
      "4346        0.0     0.0\n",
      "4347        0.0     0.0\n",
      "\n",
      "[4348 rows x 2 columns]\n"
     ]
    }
   ],
   "source": [
    "from sklearn.model_selection import train_test_split\n",
    "\n",
    "# Uses Logistic Regression (This is because while it is not significantly different from Neural Nets, it is faster)\n",
    "X_train, X_test, Y_train, Y_test = train_test_split(X, Y, test_size=0.2)\n",
    "clf = LogisticRegression(solver='saga')\n",
    "clf.fit(X_train, Y_train)\n",
    "print(clf.score(X_test, Y_test))\n",
    "\n",
    "# Sets up a pd.DataFrame containing the predicted and actual result.\n",
    "predicted = clf.predict(X_test)\n",
    "actual = Y_test\n",
    "\n",
    "result = pd.DataFrame({'predicted': predicted, 'actual': actual})\n",
    "print(result)"
   ]
  },
  {
   "cell_type": "code",
   "execution_count": 21,
   "metadata": {},
   "outputs": [
    {
     "name": "stdout",
     "output_type": "stream",
     "text": [
      "      predicted  actual\n",
      "1116        1.0     0.0\n",
      "560         1.0     0.0\n",
      "549         1.0     1.0\n",
      "1749        1.0     0.0\n",
      "3843        1.0     0.0\n",
      "...         ...     ...\n",
      "1495        0.0     0.0\n",
      "1496        0.0     0.0\n",
      "1497        0.0     0.0\n",
      "1498        0.0     0.0\n",
      "4347        0.0     0.0\n",
      "\n",
      "[4348 rows x 2 columns]\n",
      "      predicted  actual  cumulative\n",
      "1116        1.0     0.0         0.0\n",
      "560         1.0     0.0         0.0\n",
      "549         1.0     1.0         1.0\n",
      "1749        1.0     0.0         1.0\n",
      "3843        1.0     0.0         1.0\n",
      "...         ...     ...         ...\n",
      "1495        0.0     0.0       732.0\n",
      "1496        0.0     0.0       732.0\n",
      "1497        0.0     0.0       732.0\n",
      "1498        0.0     0.0       732.0\n",
      "4347        0.0     0.0       732.0\n",
      "\n",
      "[4348 rows x 3 columns]\n",
      "4348\n",
      "4348 0.16835326586936522\n"
     ]
    }
   ],
   "source": [
    "# In order to create the lift chart, I will first create a list such that the predicted \"yes\" all appear first...\n",
    "result = result.sort_values(['predicted'],ascending=False)\n",
    "print(result)\n",
    "\n",
    "# ...and then count the cumulative sum of the true positive (TP) predictions.\n",
    "result['cumulative'] = result['actual'].cumsum()\n",
    "print(result)\n",
    "\n",
    "# This is for the \"random\" classifier.\n",
    "print(len(Y_test))\n",
    "cumulative = 0\n",
    "for i in result['actual']:\n",
    "    if i == 1:\n",
    "        cumulative = cumulative + 1\n",
    "xAxisLength = len(Y_test)\n",
    "yAxisLength = cumulative / xAxisLength\n",
    "\n",
    "print(xAxisLength, yAxisLength)"
   ]
  },
  {
   "cell_type": "code",
   "execution_count": 22,
   "metadata": {},
   "outputs": [
    {
     "data": {
      "text/plain": [
       "[<matplotlib.lines.Line2D at 0x1d247d61a20>]"
      ]
     },
     "execution_count": 22,
     "metadata": {},
     "output_type": "execute_result"
    },
    {
     "data": {
      "image/png": "[encoded data removed]",
      "text/plain": [
       "<Figure size 432x288 with 1 Axes>"
      ]
     },
     "metadata": {
      "needs_background": "light"
     },
     "output_type": "display_data"
    }
   ],
   "source": [
    "# Graphs the lift chart.\n",
    "import matplotlib.pyplot as plt\n",
    "\n",
    "xAxis = np.arange(1, xAxisLength + 1)\n",
    "yClassifier = result['cumulative'] / xAxisLength\n",
    "yRandom = xAxis * yAxisLength / xAxisLength\n",
    "\n",
    "plt.plot(xAxis, yClassifier, label='sorted', c='r')\n",
    "plt.plot(xAxis, yRandom, label='rand', c='b')"
   ]
  },
  {
   "cell_type": "markdown",
   "metadata": {},
   "source": [
    "### Cost-benefit Analysis\n",
    "\n",
    "I use 1 dollar per mail, 5 dollars gain."
   ]
  },
  {
   "cell_type": "code",
   "execution_count": 37,
   "metadata": {},
   "outputs": [
    {
     "data": {
      "image/png": "[encoded data removed]",
      "text/plain": [
       "<Figure size 432x288 with 1 Axes>"
      ]
     },
     "metadata": {
      "needs_background": "light"
     },
     "output_type": "display_data"
    }
   ],
   "source": [
    "# The cost-benefit graph of random classifier.\n",
    "cost_benefit_random = pd.DataFrame({'sent':xAxis, 'cost':xAxis * 1, 'benefit':(xAxis / xAxisLength) * cumulative * 5})\n",
    "\n",
    "# The cost-benefit graph of logistic regression\n",
    "cost_benefit_classifier = pd.DataFrame({'sent':xAxis, 'cost':xAxis * 1, 'benefit':result['cumulative'] * 5})\n",
    "\n",
    "plt.plot(cost_benefit_random['sent'], cost_benefit_random['benefit'] - cost_benefit_random['cost'], c='r')\n",
    "plt.plot(cost_benefit_classifier['sent'], cost_benefit_classifier['benefit'] - cost_benefit_classifier['cost'], c='b')\n",
    "\n",
    "plt.title(\"Cost-Benefit Chart with random\")\n",
    "plt.xlabel('Number of mail sent')\n",
    "plt.ylabel('Revenue')\n",
    "\n",
    "plt.show()"
   ]
  },
  {
   "cell_type": "markdown",
   "metadata": {},
   "source": [
    "The graph indicates that sending mail randomly is a complete waste of money, but using the classifier and sending roughly 200 mails (by the looks of it) can maximize revenue. I will now find the exact value of that revenue and the number of letters sent to have that revenue."
   ]
  },
  {
   "cell_type": "code",
   "execution_count": 38,
   "metadata": {},
   "outputs": [
    {
     "name": "stdout",
     "output_type": "stream",
     "text": [
      "Max Revenue: $ 561.0\n",
      "Number of mail sent:  254\n",
      "Profit if 254 mail are sent:  -40.19135234590618\n"
     ]
    }
   ],
   "source": [
    "max_revenue_classifier = np.max(cost_benefit_classifier['benefit'] - cost_benefit_classifier['cost'])\n",
    "print(\"Max Revenue: $\", max_revenue_classifier)\n",
    "\n",
    "m = 0\n",
    "for i in range(len(cost_benefit_classifier['benefit'])):\n",
    "    if (cost_benefit_classifier['benefit'] - cost_benefit_classifier['cost'])[i] == max_revenue_classifier:\n",
    "        m = cost_benefit_classifier['sent'][i]\n",
    "\n",
    "print(\"Number of mail sent: \", m)\n",
    "print(\"Profit if\", m, \"mail are sent: \", (cost_benefit_random['benefit'] - cost_benefit_random['cost'])[m - 1])"
   ]
  },
  {
   "cell_type": "markdown",
   "metadata": {},
   "source": [
    "### Conclusion\n",
    "\n",
    "We gained 294 dollars of profit. Without the classifier, there's no way of earning any revenue, and the more mail sent the greater the loss. However, revenue increases with the number of mail sent until 254, past which point the revenue decreases."
   ]
  },
  {
   "cell_type": "markdown",
   "metadata": {},
   "source": [
    "### "
   ]
  }
 ],
 "metadata": {
  "kernelspec": {
   "display_name": "Python 3",
   "language": "python",
   "name": "python3"
  },
  "language_info": {
   "codemirror_mode": {
    "name": "ipython",
    "version": 3
   },
   "file_extension": ".py",
   "mimetype": "text/x-python",
   "name": "python",
   "nbconvert_exporter": "python",
   "pygments_lexer": "ipython3",
   "version": "3.7.1"
  }
 },
 "nbformat": 4,
 "nbformat_minor": 4
}
